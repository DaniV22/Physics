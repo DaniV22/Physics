{
 "cells": [
  {
   "cell_type": "markdown",
   "id": "ec763e19",
   "metadata": {},
   "source": [
    " ### Magnetic field (Biot-Savart Law)\n",
    " \n",
    " The Biot-Savart law allows us to compute the magnetic field produced by any constant electric current at any position in space. Let's suppose we have a wire, of path $C$, carrying an electric current $I$. Then, the magnetic field at any position is\n",
    " \n",
    "$$ B (\\vec {r} )={\\frac {I\\mu _{0}}{4\\pi }}\\int _{C}{\\frac {d{\\vec{l}}\\times  {\\vec {r}}'}{|\\vec{r'} |^{3}}}  = {\\frac {I\\mu _{0}}{4\\pi }}\\int _{C}{\\frac {d{\\vec{l}}\\times {(\\vec {r} - \\vec{l}}) }{|\\vec {r} - \\vec{l} |^{3}}} \\tag{1} $$\n",
    "\n",
    "\n",
    "where $d{\\vec{l}}$ is the infinitesimal length of the wire carrying an electric current $I$, and $\\mu_{0} = 4 \\pi ·10^{-7}$ T·m·A$^{-1}$ is the vacuum permeability . The integral is extended over the path of the wire,  $C$. \n",
    "\n",
    "To make the calculations easier we're going to express this equation in terms of dimensionless quantities. Considering a caracteristic distance of the system, $R$, we make the following change of variable: $\\vec{l} \\rightarrow \\vec{l}/R, $ $ \\vec{r} \\rightarrow \\vec{r}/R  $. Thus, the equation [1] can be rewritten as \n",
    "\n",
    "$$ \\frac{4\\pi R}{\\mu_0 I} B(\\vec{r} )= \\int _{C}{\\frac {d{\\vec{l}}\\times {(\\vec {r} - \\vec{l}}) }{|\\vec {r} - \\vec{l} |^{3}}} \\tag{2}$$\n",
    "\n",
    "which is, in fact, a dimensionless equation. \n",
    "\n"
   ]
  },
  {
   "cell_type": "code",
   "execution_count": 256,
   "id": "532dd193",
   "metadata": {},
   "outputs": [],
   "source": [
    "import numpy as np\n",
    "import matplotlib.pyplot as plt\n",
    "from scipy.integrate import quad\n",
    "import sympy as smp\n",
    "from sympy.vector import cross"
   ]
  },
  {
   "cell_type": "code",
   "execution_count": 257,
   "id": "0fa0ab62",
   "metadata": {},
   "outputs": [],
   "source": [
    "#Defining the wire curve\n",
    "\n",
    "def l(shape):\n",
    "    \n",
    "    #Most common geometries\n",
    "    \n",
    "    if shape == 'wire':\n",
    "        \n",
    "        z = np.linspace(-1, 1, 100)\n",
    "        a = [np.zeros(len(z)), np.zeros(len(z)), z]\n",
    "    \n",
    "    elif shape == 'loop':\n",
    "        \n",
    "        theta = np.linspace(0, 2*np.pi, 100)\n",
    "        a = [np.cos(theta), np.sin(theta), np.zeros(len(theta))]\n",
    "        \n",
    "    elif shape == 'solenoid':\n",
    "        \n",
    "        theta = np.linspace(-np.pi, np.pi, 600)\n",
    "        N = 40\n",
    "        length = 5\n",
    "        a = [np.cos(N*theta), np.sin(N*theta), theta*length/(2*np.pi)]\n",
    "        \n",
    "    elif shape == 'toroid':\n",
    "        \n",
    "        theta = np.linspace(-np.pi, np.pi, 600)\n",
    "        r = 0.4\n",
    "        R = 2\n",
    "        N = 50\n",
    "        a = [(R + r*np.cos(N*theta))*np.cos(theta), (R + r*np.cos(N*theta))*np.sin(theta), r*np.sin(N*theta)]\n",
    "\n",
    "    return np.array(a)\n",
    "\n",
    "shape = 'loop'\n",
    "lx, ly, lz = l(shape)"
   ]
  },
  {
   "cell_type": "code",
   "execution_count": 258,
   "id": "acf632c6",
   "metadata": {},
   "outputs": [
    {
     "data": {
      "image/png": "[encoded data removed]",
      "text/plain": [
       "<Figure size 432x288 with 1 Axes>"
      ]
     },
     "metadata": {
      "needs_background": "light"
     },
     "output_type": "display_data"
    }
   ],
   "source": [
    "#Plotting the wire curve\n",
    "\n",
    "fig = plt.figure()\n",
    "ax = fig.add_subplot(111, projection='3d')\n",
    "ax.plot(lx, ly, lz)\n",
    "\n",
    "plt.show()"
   ]
  },
  {
   "cell_type": "markdown",
   "id": "1eee5c88",
   "metadata": {},
   "source": [
    "We'll start solving the equation [2] symbolically using **Simpy**. Then, we'll transform the solution into a numerical one to plot the results. \n",
    "\n",
    "First, we define our variables"
   ]
  },
  {
   "cell_type": "code",
   "execution_count": 259,
   "id": "997d9392",
   "metadata": {},
   "outputs": [],
   "source": [
    "theta, x, y, z = smp.symbols('theta, x, y, z')"
   ]
  },
  {
   "cell_type": "markdown",
   "id": "7b3a316a",
   "metadata": {},
   "source": [
    "Defining the wire curve, position and the separation vector:"
   ]
  },
  {
   "cell_type": "code",
   "execution_count": 260,
   "id": "58c75c34",
   "metadata": {},
   "outputs": [],
   "source": [
    "def l_element(shape, theta):\n",
    "    \n",
    "    if shape == 'wire':\n",
    "        \n",
    "        l = smp.Matrix([0, 0, theta])\n",
    "        \n",
    "    elif shape == 'loop':\n",
    "        \n",
    "        l = smp.Matrix([smp.cos(theta), smp.sin(theta), 0])\n",
    "        \n",
    "    elif shape == 'solenoid':\n",
    "        \n",
    "        theta = np.linspace(-np.pi, np.pi, 600)\n",
    "        N = 40\n",
    "        length = 5\n",
    "        \n",
    "        l = smp.Matrix([smp.cos(N*theta), smp.sin(N*theta), theta*length/(2*smp.pi)])\n",
    "        \n",
    "    elif shape == 'toroid':\n",
    "\n",
    "        r = 0.4\n",
    "        R = 2\n",
    "        N = 50\n",
    "        \n",
    "        l = smp.Matrix([(R + r*smp.cos(N*theta))*smp.cos(theta), (R + r*smp.cos(N*theta))*smp.sin(theta), r*smp.sin(N*theta)])\n",
    "    \n",
    "    return l"
   ]
  },
  {
   "cell_type": "code",
   "execution_count": 261,
   "id": "b153326e",
   "metadata": {},
   "outputs": [
    {
     "data": {
      "text/latex": [
       "$\\displaystyle \\left[\\begin{matrix}\\cos{\\left(\\theta \\right)}\\\\\\sin{\\left(\\theta \\right)}\\\\0\\end{matrix}\\right]$"
      ],
      "text/plain": [
       "Matrix([\n",
       "[cos(theta)],\n",
       "[sin(theta)],\n",
       "[         0]])"
      ]
     },
     "execution_count": 261,
     "metadata": {},
     "output_type": "execute_result"
    }
   ],
   "source": [
    "l = l_element(shape, theta)\n",
    "r = smp.Matrix([x, y, z])\n",
    "sep = r - l\n",
    "l"
   ]
  },
  {
   "cell_type": "markdown",
   "id": "3157e96f",
   "metadata": {},
   "source": [
    "Since we have the wire curve vector in terms of an auxiliar variable, $\\theta$, we need to apply the chain rule to the [2] expression. Thus, we have the following\n",
    "\n",
    "$$ \\frac{4\\pi R}{\\mu_0 I} B(\\vec{r} )= \\int _{a}^{b}{\\frac {d{\\vec{l}/{d\\theta}}\\times {(\\vec {r} - \\vec{l}}) }{|\\vec {r} - \\vec{l} |^{3}}}d\\theta  \\equiv \\int _{a}^{b} A(\\theta)d\\theta \\tag{3}$$\n",
    "\n"
   ]
  },
  {
   "cell_type": "code",
   "execution_count": 262,
   "id": "9987423c",
   "metadata": {},
   "outputs": [],
   "source": [
    "#Defininf A(theta)\n",
    "A = smp.diff(l, theta).cross(sep) / sep.norm()**3"
   ]
  },
  {
   "cell_type": "markdown",
   "id": "17a68417",
   "metadata": {},
   "source": [
    "We have now the symbollic integral defined. We need to tranform this into a numerical expression to solve the integral numerically."
   ]
  },
  {
   "cell_type": "code",
   "execution_count": 263,
   "id": "38513194",
   "metadata": {},
   "outputs": [],
   "source": [
    "#Components of the integrand A(theta)\n",
    "\n",
    "dBx = smp.lambdify([theta, x, y, z], A[0])\n",
    "dBy = smp.lambdify([theta, x, y, z], A[1])\n",
    "dBz = smp.lambdify([theta, x, y, z], A[2])"
   ]
  },
  {
   "cell_type": "code",
   "execution_count": 264,
   "id": "43739cb0",
   "metadata": {},
   "outputs": [],
   "source": [
    "from scipy.integrate import quad\n",
    "\n",
    "if shape == 'wire':\n",
    "    \n",
    "    def get_B(x, y, z):\n",
    "        \n",
    "        '''\n",
    "        The 'quad' method returns the result in a shape\n",
    "        of (result, error). We only want the result, [0]\n",
    "        '''\n",
    "\n",
    "        #Limits of integration\n",
    "        a = -1\n",
    "        b = 1\n",
    "        \n",
    "        Bx = quad(dBx, a, b, args=(x, y, z))[0]\n",
    "        By = quad(dBy, a, b, args=(x, y, z))[0]\n",
    "        Bz = quad(dBz, a, b, args=(x, y, z))[0]\n",
    "        \n",
    "        return np.array([Bx, By, Bz])\n",
    "\n",
    "else:\n",
    "    \n",
    "    def get_B(x, y, z):\n",
    "\n",
    "        #Limits of integration\n",
    "        a = 0\n",
    "        b = 2*np.pi\n",
    "        \n",
    "        Bx = quad(dBx, a, b, args=(x, y, z))[0]\n",
    "        By = quad(dBy, a, b, args=(x, y, z))[0]\n",
    "        Bz = quad(dBz, a, b, args=(x, y, z))[0]\n",
    "        \n",
    "        return np.array([Bx, By, Bz])   "
   ]
  },
  {
   "cell_type": "code",
   "execution_count": 265,
   "id": "eacfdb20",
   "metadata": {},
   "outputs": [],
   "source": [
    "#Defining a 3d-grid\n",
    "\n",
    "if shape == 'wire':\n",
    "    \n",
    "    x = np.linspace(-1, 1, 10)\n",
    "    y = np.linspace(-1, 1, 10)\n",
    "    z = np.linspace(-2, 2, 20)\n",
    "    \n",
    "elif shape == 'loop':\n",
    "    \n",
    "    x = np.linspace(-1.5, 1.5, 15)\n",
    "    y = np.linspace(-1.5, 1.5, 15)\n",
    "    z = np.linspace(-3, 3, 60)\n",
    "    \n",
    "elif shape == 'solenoid':\n",
    "    \n",
    "    x = np.linspace(-1.5, 1.5, 15)\n",
    "    y = np.linspace(-1.5, 1.5, 15)\n",
    "    z = np.linspace(-7, 7, 100)\n",
    "\n",
    "elif shape == 'toroid':\n",
    "    \n",
    "    x = np.linspace(-3, 3, 30)\n",
    "    y = np.linspace(-3, 3, 30)\n",
    "    z = np.linspace(-2, 2, 20)\n",
    "    \n",
    "xv, yv, zv = np.meshgrid(x, y, z)"
   ]
  },
  {
   "cell_type": "code",
   "execution_count": 266,
   "id": "1799b065",
   "metadata": {},
   "outputs": [],
   "source": [
    "B = np.vectorize(get_B, signature='(),(),()->(n)')(xv, yv, zv)\n",
    "Bx = B[:,:,:,0]\n",
    "By = B[:,:,:,1]\n",
    "Bz = B[:,:,:,2]"
   ]
  },
  {
   "cell_type": "code",
   "execution_count": 267,
   "id": "72fe7b1d",
   "metadata": {},
   "outputs": [
    {
     "name": "stdout",
     "output_type": "stream",
     "text": [
      "Notebook initialized with ipy backend.\n"
     ]
    }
   ],
   "source": [
    "#Interactive quiver plot\n",
    "from mayavi.mlab import quiver3d, plot3d\n",
    "import mayavi.mlab as mv\n",
    "mv.init_notebook()"
   ]
  },
  {
   "cell_type": "code",
   "execution_count": 268,
   "id": "399fe5a3",
   "metadata": {},
   "outputs": [
    {
     "data": {
      "application/vnd.jupyter.widget-view+json": {
       "model_id": "f73344ef07fa4d3cb6571fd39bd01adc",
       "version_major": 2,
       "version_minor": 0
      },
      "text/plain": [
       "Image(value=b'\\x89PNG\\r\\n\\x1a\\n\\x00\\x00\\x00\\rIHDR\\x00\\x00\\x01\\x90\\x00\\x00\\x01^\\x08\\x02\\x00\\x00\\x00$?\\xde_\\x00\\…"
      ]
     },
     "metadata": {},
     "output_type": "display_data"
    }
   ],
   "source": [
    "mv.figure(bgcolor = (1,1,1))\n",
    "plot3d(lx, ly, lz, color = (0,0,0))\n",
    "quiver3d(xv, yv, zv, Bx, By, Bz, mask_points = 3)\n"
   ]
  },
  {
   "cell_type": "markdown",
   "id": "5b1afcda",
   "metadata": {},
   "source": [
    "We see that for the loop geometry we get the expected result: the magnetic field perpendicular to the wire. Due to the geometry of the loop, the magnetic field in the center axis is perpendicular to the loop itself.  \n",
    "\n",
    "Let's compare the numerical result along that axis with the analytical result. It is known that the magnetic field along the central axis, $r = 0$, is\n",
    "\n",
    "$$ \\vec{B} = \\frac{\\mu_0 I R^2}{2(z^2 + R^2)^{3/2}} \\hat{k} \\tag{4}$$\n",
    "\n",
    "being R the radius of the loop. "
   ]
  },
  {
   "cell_type": "code",
   "execution_count": 269,
   "id": "26d9db49",
   "metadata": {},
   "outputs": [],
   "source": [
    "mu = 4*np.pi * 10**-7\n",
    "I = 1"
   ]
  },
  {
   "cell_type": "code",
   "execution_count": 270,
   "id": "44ad95fa",
   "metadata": {},
   "outputs": [],
   "source": [
    "def B_analytic(z):\n",
    "    \n",
    "    #We assume R = 1\n",
    "    return mu*I/(z**2 + 1)**(3/2) / 2"
   ]
  },
  {
   "cell_type": "code",
   "execution_count": 271,
   "id": "ce5b7505",
   "metadata": {},
   "outputs": [],
   "source": [
    "#Numeric B along the axis r = 0:\n",
    "\n",
    "B_centre = Bz[7,7,:] * mu * I / (4*np.pi)  #Undoing the change of variable"
   ]
  },
  {
   "cell_type": "code",
   "execution_count": 275,
   "id": "f35b71ee",
   "metadata": {},
   "outputs": [
    {
     "data": {
      "text/plain": [
       "Text(0, 0.5, 'Magnetic field [T]')"
      ]
     },
     "execution_count": 275,
     "metadata": {},
     "output_type": "execute_result"
    },
    {
     "data": {
      "image/png": "[encoded data removed]",
      "text/plain": [
       "<Figure size 432x288 with 1 Axes>"
      ]
     },
     "metadata": {
      "needs_background": "light"
     },
     "output_type": "display_data"
    }
   ],
   "source": [
    "plt.plot(z, B_centre)\n",
    "plt.plot(z, B_analytic(z))\n",
    "plt.xlabel('Z [m]')\n",
    "plt.ylabel('Magnetic field [T]')"
   ]
  },
  {
   "cell_type": "markdown",
   "id": "74661fce",
   "metadata": {},
   "source": [
    "We get exactly the same result."
   ]
  },
  {
   "cell_type": "code",
   "execution_count": null,
   "id": "fdd1a1d0",
   "metadata": {},
   "outputs": [],
   "source": []
  }
 ],
 "metadata": {
  "kernelspec": {
   "display_name": "Python 3",
   "language": "python",
   "name": "python3"
  },
  "language_info": {
   "codemirror_mode": {
    "name": "ipython",
    "version": 3
   },
   "file_extension": ".py",
   "mimetype": "text/x-python",
   "name": "python",
   "nbconvert_exporter": "python",
   "pygments_lexer": "ipython3",
   "version": "3.8.8"
  }
 },
 "nbformat": 4,
 "nbformat_minor": 5
}
